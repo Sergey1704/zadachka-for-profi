{
 "cells": [
  {
   "cell_type": "markdown",
   "metadata": {
    "id": "ylJmN1JW4LvO"
   },
   "source": [
    "## Задача\n",
    "\n",
    "Подкинули монету N раз. Кол-во случаев, когда выпал орёл, на 10% больше, чем кол-во случаев, когда выпала решка. При каком N мы можем сказать, что монета «нечестная» (орёл и решка выпадают с разной вероятностью)?\n",
    "\n",
    "\n",
    "## Решение\n",
    "\n",
    "Допустим, говорить о том, что монетка «нечестная», мы будем на основе Z-критерия для доли (можно использовать нормальную аппроксимацию для биномиального распределения в силу ЦПТ) на уровне значимости $\\alpha = 0.05$. Тогда:\n",
    "\n",
    "$X^n = (X_1, ..., X_n), X \\sim Ber(p)$\n",
    "\n",
    "$H_0: p = p_0$\n",
    "\n",
    "$H_1: p \\neq p_0$\n",
    "\n",
    "$Z = \\frac{\\overline{p} - p_0}{\\sqrt{\\frac{p_0(1-p_0)}{n}}}$\n",
    "\n",
    "Если $Z > Z_{critical}$, то отвергаем нулевую гипотезу о «честности» монетки в пользу двусторонней альтернативы на уровне значимости $\\alpha$.\n",
    "\n",
    "Тогда минимальное $n$ достигается при $Z = Z_{critical}$ :\n",
    "\n",
    "$n = \\frac{p_0 \\cdot (1-p_0)}{(\\overline{p}-p_0)^2} \\cdot Z_{critical}^2$\n"
   ]
  },
  {
   "cell_type": "code",
   "execution_count": 1,
   "metadata": {
    "id": "jfb1Pv9b4BYJ"
   },
   "outputs": [],
   "source": [
    "import math\n",
    "import scipy.stats as stats"
   ]
  },
  {
   "cell_type": "code",
   "execution_count": 2,
   "metadata": {
    "id": "rUQeapT-5f5D"
   },
   "outputs": [],
   "source": [
    "alpha = 0.05\n",
    "p0 = 0.5\n",
    "p = 1/2.1"
   ]
  },
  {
   "cell_type": "code",
   "execution_count": 3,
   "metadata": {
    "id": "RPgo6WQk-yQ_"
   },
   "outputs": [],
   "source": [
    "assert p + 1.1*p == 1"
   ]
  },
  {
   "cell_type": "code",
   "execution_count": 4,
   "metadata": {
    "id": "m4nsph4z4AaT"
   },
   "outputs": [],
   "source": [
    "z_critical = stats.norm.ppf(1 - alpha/2)"
   ]
  },
  {
   "cell_type": "code",
   "execution_count": 5,
   "metadata": {
    "colab": {
     "base_uri": "https://localhost:8080/"
    },
    "id": "tH42iQMy5SoL",
    "outputId": "10dbba02-6c0b-4142-9fa8-3a93b564552a"
   },
   "outputs": [
    {
     "name": "stdout",
     "output_type": "stream",
     "text": [
      "1695\n"
     ]
    }
   ],
   "source": [
    "n_minimal = math.ceil(z_critical**2 * p0*(1-p0) / (p-p0)**2)\n",
    "print(n_minimal)"
   ]
  },
  {
   "cell_type": "markdown",
   "metadata": {
    "id": "C8hBwSA3VgsL"
   },
   "source": [
    "**Ответ**: Для определения «честности» монетки с помощью вышеуказанных критерия и уровня значимости нам нужно подкинуть ее как минимум 1695 раз."
   ]
  }
 ],
 "metadata": {
  "colab": {
   "collapsed_sections": [],
   "name": "solution.ipynb",
   "provenance": []
  },
  "kernelspec": {
   "display_name": "Python 3",
   "language": "python",
   "name": "python3"
  },
  "language_info": {
   "codemirror_mode": {
    "name": "ipython",
    "version": 3
   },
   "file_extension": ".py",
   "mimetype": "text/x-python",
   "name": "python",
   "nbconvert_exporter": "python",
   "pygments_lexer": "ipython3",
   "version": "3.8.3"
  }
 },
 "nbformat": 4,
 "nbformat_minor": 1
}
